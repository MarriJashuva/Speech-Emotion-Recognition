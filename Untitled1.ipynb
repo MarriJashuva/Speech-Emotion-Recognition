{
 "cells": [
  {
   "cell_type": "markdown",
   "id": "4a491ab5-2b31-4927-ab71-2011173c3c46",
   "metadata": {},
   "source": [
    "# Impoorting Libraries"
   ]
  },
  {
   "cell_type": "code",
   "execution_count": 1,
   "id": "52562665-e3e6-4c03-9313-414982584127",
   "metadata": {},
   "outputs": [],
   "source": [
    "import os\n",
    "import numpy as np\n",
    "import librosa\n",
    "import skfuzzy as fuzz\n",
    "from sklearn.model_selection import train_test_split\n",
    "from sklearn.preprocessing import LabelEncoder\n",
    "from tensorflow.keras.models import Sequential\n",
    "from tensorflow.keras.layers import Conv2D, MaxPooling2D, BatchNormalization, Activation, Reshape, LSTM, Dense\n",
    "from tensorflow.keras.utils import to_categorical\n",
    "from sklearn.metrics import accuracy_score\n",
    "import matplotlib.pyplot as plt\n"
   ]
  },
  {
   "cell_type": "markdown",
   "id": "b1e9e7fd-0600-4e69-807b-aaed182d2699",
   "metadata": {},
   "source": [
    "# Loading dataset = Ravdess + Toranto"
   ]
  },
  {
   "cell_type": "code",
   "execution_count": null,
   "id": "d96fed95-cbf2-4236-ae17-54c7af9740f1",
   "metadata": {},
   "outputs": [],
   "source": [
    "# Encode labels\n",
    "encoder = LabelEncoder()\n",
    "y_encoded = encoder.fit_transform(y)\n",
    "y_categorical = to_categorical(y_encoded, num_classes=len(emotions))\n",
    "\n",
    "print(\"MFCC extraction complete.\")\n",
    "print(f\"MFCC shape: {X.shape}\")\n",
    "print(f\"Labels shape: {y_categorical.shape}\")"
   ]
  },
  {
   "cell_type": "code",
   "execution_count": 3,
   "id": "086b0c51-9686-4e8e-95be-4c33b3b342ba",
   "metadata": {},
   "outputs": [],
   "source": [
    "import os\n",
    "import numpy as np\n",
    "import librosa\n",
    "from sklearn.preprocessing import LabelEncoder\n",
    "from tensorflow.keras.utils import to_categorical\n",
    "\n",
    "# Path to the dataset (update to your actual directory path)\n",
    "dataset_path = \"./result\"  # Replace with the path to your dataset\n",
    "\n",
    "# Function to extract only MFCC features\n",
    "def extract_features(file_path):\n",
    "    try:\n",
    "        audio, sr = librosa.load(file_path, sr=None)\n",
    "        mfcc = librosa.feature.mfcc(y=audio, sr=sr, n_mfcc=50).mean(axis=1)\n",
    "        return mfcc\n",
    "    except Exception as e:\n",
    "        print(f\"Error processing file {file_path}: {e}\")\n",
    "        return None\n",
    "\n",
    "# Prepare data\n",
    "features, labels = [], []\n",
    "emotions = os.listdir(dataset_path)  # Folders represent emotions\n",
    "emotions.sort()  # Ensure consistent order\n",
    "\n",
    "for emotion in emotions:\n",
    "    emotion_folder = os.path.join(dataset_path, emotion)\n",
    "    if os.path.isdir(emotion_folder):  # Ensure it's a folder\n",
    "        for file in os.listdir(emotion_folder):\n",
    "            if file.endswith(\".wav\"):\n",
    "                file_path = os.path.join(emotion_folder, file)\n",
    "                feature = extract_features(file_path)\n",
    "                if feature is not None:\n",
    "                    features.append(feature)                                     \n",
    "                    labels.append(emotion)   \n",
    "\n",
    "# Convert to arrays\n",
    "X = np.array(features)\n",
    "y = np.array(labels) "
   ]
  },
  {
   "cell_type": "code",
   "execution_count": 4,
   "id": "36b15194-f6d0-47ab-b6a2-054fcf5b75d0",
   "metadata": {},
   "outputs": [
    {
     "data": {
      "text/plain": [
       "(4240, 50)"
      ]
     },
     "execution_count": 4,
     "metadata": {},
     "output_type": "execute_result"
    }
   ],
   "source": [
    "X.shape"
   ]
  },
  {
   "cell_type": "code",
   "execution_count": 5,
   "id": "95b294ab-cb7c-45a0-83e8-a6b10bc5ee4c",
   "metadata": {},
   "outputs": [
    {
     "data": {
      "text/plain": [
       "(4240,)"
      ]
     },
     "execution_count": 5,
     "metadata": {},
     "output_type": "execute_result"
    }
   ],
   "source": [
    "y.shape"
   ]
  },
  {
   "cell_type": "code",
   "execution_count": 6,
   "id": "dc6d6723-0a8d-4099-9621-5dfaa5ff51d8",
   "metadata": {},
   "outputs": [
    {
     "data": {
      "text/plain": [
       "array(['angry', 'angry', 'angry', ..., 'surprised', 'surprised',\n",
       "       'surprised'], dtype='<U9')"
      ]
     },
     "execution_count": 6,
     "metadata": {},
     "output_type": "execute_result"
    }
   ],
   "source": [
    "y"
   ]
  },
  {
   "cell_type": "code",
   "execution_count": 7,
   "id": "0f1d19fa-8b30-4213-92b2-151692ad1d2c",
   "metadata": {},
   "outputs": [
    {
     "data": {
      "text/plain": [
       "array([[-4.7275671e+02,  1.0444170e+02, -1.5045453e+01, ...,\n",
       "        -3.9964435e+00, -2.2316461e+00, -3.7355666e+00],\n",
       "       [-5.1275836e+02,  9.3137703e+01, -1.4252605e+01, ...,\n",
       "         4.5127359e-01,  4.2828467e-01, -5.6924678e-02],\n",
       "       [-6.4166351e+02,  8.0903069e+01, -6.5349951e+00, ...,\n",
       "        -2.1896613e+00, -2.1230996e+00, -1.1200417e+00],\n",
       "       ...,\n",
       "       [-3.4525482e+02,  3.7468922e+01,  7.4005237e+00, ...,\n",
       "        -1.3354462e-01, -6.9232756e-01,  8.5038555e-01],\n",
       "       [-3.4004501e+02,  4.2309521e+01, -2.1642380e+01, ...,\n",
       "         1.2414956e+00, -1.3879158e+00, -5.1451707e-01],\n",
       "       [-3.7355783e+02,  3.8703201e+01, -3.6885612e+00, ...,\n",
       "         1.0623388e+00, -3.3131561e-01,  8.0773234e-01]], dtype=float32)"
      ]
     },
     "execution_count": 7,
     "metadata": {},
     "output_type": "execute_result"
    }
   ],
   "source": [
    "X"
   ]
  },
  {
   "cell_type": "markdown",
   "id": "67d50d1e-8332-479b-8c78-83de6cf1aae3",
   "metadata": {},
   "source": [
    "# Data Augmentation"
   ]
  },
  {
   "cell_type": "code",
   "execution_count": 16,
   "id": "fcefc4db-29e0-4e5a-8fb1-fb256f4c30b2",
   "metadata": {},
   "outputs": [
    {
     "name": "stdout",
     "output_type": "stream",
     "text": [
      "Shape of X_combined: (8480, 50)\n",
      "Shape of y_combined: (8480,)\n"
     ]
    }
   ],
   "source": [
    "import numpy as np\n",
    "\n",
    "# Example augmentation: Add noise to features\n",
    "def add_noise(features, noise_factor=0.01):\n",
    "    noise = noise_factor * np.random.normal(size=features.shape)\n",
    "    return features + noise\n",
    "\n",
    "# Apply augmentation\n",
    "X_augmented = add_noise(X)  # Add noise to original features\n",
    "\n",
    "# Combine original and augmented data\n",
    "X_combined = np.concatenate((X, X_augmented), axis=0)\n",
    "\n",
    "# Duplicate labels\n",
    "y_combined = np.concatenate((y, y), axis=0)\n",
    "\n",
    "# Verify the shapes\n",
    "print(\"Shape of X_combined:\", X_combined.shape)                 \n",
    "print(\"Shape of y_combined:\", y_combined.shape) \n"
   ]
  },
  {
   "cell_type": "code",
   "execution_count": 18,
   "id": "4c0c62c2-bd74-4861-a500-46b3163bce31",
   "metadata": {},
   "outputs": [
    {
     "data": {
      "text/plain": [
       "array([-4.7275671e+02,  1.0444170e+02, -1.5045453e+01,  2.2842808e+01,\n",
       "        2.6614950e+00,  1.1187825e+01, -1.1705121e+01,  2.5278108e+00,\n",
       "       -5.5042000e+00, -1.6503900e+00, -1.6481394e+01, -6.7370186e+00,\n",
       "        1.8820173e+00, -6.3385639e+00, -3.3738112e+00,  2.6364502e-01,\n",
       "       -7.4491205e+00, -3.5647845e+00, -1.2057639e+00, -5.6613317e+00,\n",
       "       -6.1154156e+00, -2.8438518e+00, -4.0433249e+00, -4.7983303e+00,\n",
       "       -6.5077639e+00, -4.7138257e+00, -4.5972924e+00, -3.7134047e+00,\n",
       "       -7.0132637e+00, -3.9160473e+00, -2.4352674e+00, -2.7466707e+00,\n",
       "       -5.5507226e+00,  5.9838325e-01, -9.0752482e-01, -3.8642285e+00,\n",
       "       -7.1782261e-01,  7.3597237e-02, -2.0301633e+00, -2.3636029e+00,\n",
       "       -2.9650557e+00, -2.8823864e+00, -2.8123775e+00, -1.1079925e+00,\n",
       "       -1.9862809e+00, -1.2701089e+00, -2.9811556e+00, -3.9964435e+00,\n",
       "       -2.2316461e+00, -3.7355666e+00], dtype=float32)"
      ]
     },
     "execution_count": 18,
     "metadata": {},
     "output_type": "execute_result"
    }
   ],
   "source": [
    "X[0]"
   ]
  },
  {
   "cell_type": "code",
   "execution_count": 17,
   "id": "40469ce7-0d17-43e5-8fc8-68fb959c9c89",
   "metadata": {},
   "outputs": [
    {
     "data": {
      "text/plain": [
       "array([-4.72754211e+02,  1.04450470e+02, -1.50478084e+01,  2.28316556e+01,\n",
       "        2.64780357e+00,  1.11984328e+01, -1.17159525e+01,  2.53954616e+00,\n",
       "       -5.51084386e+00, -1.66342726e+00, -1.65019315e+01, -6.76069950e+00,\n",
       "        1.87508040e+00, -6.35776421e+00, -3.37373056e+00,  2.80754935e-01,\n",
       "       -7.44613581e+00, -3.55642537e+00, -1.22915250e+00, -5.65580713e+00,\n",
       "       -6.11725550e+00, -2.84101903e+00, -4.04097224e+00, -4.80680247e+00,\n",
       "       -6.49499149e+00, -4.70734648e+00, -4.59417702e+00, -3.71109750e+00,\n",
       "       -7.00795403e+00, -3.89914440e+00, -2.42525998e+00, -2.73119357e+00,\n",
       "       -5.54706729e+00,  6.05335023e-01, -8.96372220e-01, -3.87398183e+00,\n",
       "       -7.25729225e-01,  5.44710082e-02, -2.03313383e+00, -2.37780676e+00,\n",
       "       -2.96439379e+00, -2.89591199e+00, -2.81297969e+00, -1.10952667e+00,\n",
       "       -1.97294567e+00, -1.26931757e+00, -2.97831774e+00, -4.00029070e+00,\n",
       "       -2.25009017e+00, -3.72525426e+00])"
      ]
     },
     "execution_count": 17,
     "metadata": {},
     "output_type": "execute_result"
    }
   ],
   "source": [
    "X_combined[4240]"
   ]
  },
  {
   "cell_type": "markdown",
   "id": "2272bea0-b89c-4d2b-b7dc-09e8d7f1eeec",
   "metadata": {},
   "source": [
    "# Creating a data frame"
   ]
  },
  {
   "cell_type": "code",
   "execution_count": 19,
   "id": "99ab0884-6fdd-422e-91e9-d5ae64836c60",
   "metadata": {},
   "outputs": [
    {
     "name": "stdout",
     "output_type": "stream",
     "text": [
      "Shape of the DataFrame: (8480, 2)\n",
      "                                             signals labels\n",
      "0  [-472.7567138671875, 104.44170379638672, -15.0...  angry\n",
      "1  [-512.7583618164062, 93.13770294189453, -14.25...  angry\n",
      "2  [-641.6635131835938, 80.90306854248047, -6.534...  angry\n",
      "3  [-510.754150390625, 84.6399917602539, -17.8225...  angry\n",
      "4  [-451.71331787109375, 126.21612548828125, -16....  angry\n"
     ]
    }
   ],
   "source": [
    "import pandas as pd\n",
    "import numpy as np\n",
    "\n",
    "# Assuming X_combined is a NumPy array of shape (8480, 50)\n",
    "# And y_combined is a NumPy array of shape (8480,)\n",
    "\n",
    "# Convert X_combined to a list of lists\n",
    "X_flat = [row.tolist() for row in X_combined]  # Convert each row to a list\n",
    "\n",
    "# Create the DataFrame\n",
    "data_df = pd.DataFrame({\n",
    "    'signals': X_flat,  # Each row of features as a list\n",
    "    'labels': y_combined  # Ensure labels are in list format\n",
    "})\n",
    "\n",
    "# Display the shape and head of the DataFrame\n",
    "print(\"Shape of the DataFrame:\", data_df.shape)\n",
    "print(data_df.head())"
   ]
  },
  {
   "cell_type": "markdown",
   "id": "e7b7bb73-c9d2-4826-b6de-b46888f35247",
   "metadata": {},
   "source": [
    "# Preprocessing"
   ]
  },
  {
   "cell_type": "code",
   "execution_count": 21,
   "id": "6d29047b-713d-4f58-b97e-3a7488fa96ec",
   "metadata": {},
   "outputs": [],
   "source": [
    "import numpy as np\n",
    "import pandas as pd\n",
    "from sklearn.model_selection import train_test_split\n",
    "from sklearn.preprocessing import LabelEncoder, OneHotEncoder\n",
    "from keras.utils import to_categorical"
   ]
  },
  {
   "cell_type": "code",
   "execution_count": 23,
   "id": "fa7a9cf6-2cd6-4aed-8184-fbcbc5541be1",
   "metadata": {},
   "outputs": [],
   "source": [
    "# Convert 'signals' column to NumPy array\n",
    "X = np.array(data_df['signals'].tolist(), dtype=np.float32)\n",
    "\n",
    "# Reshape X to match the input shape (50, 1, 1) for the model\n",
    "X = X.reshape(X.shape[0], 50, 1, 1)"
   ]
  },
  {
   "cell_type": "markdown",
   "id": "3a61e287-58a8-462b-a14d-7638c9f4ad72",
   "metadata": {},
   "source": [
    "# One-hot encode the labels"
   ]
  },
  {
   "cell_type": "code",
   "execution_count": 25,
   "id": "f6413ded-a891-43a7-af2c-a94e8f639273",
   "metadata": {},
   "outputs": [],
   "source": [
    "# Encode labels into one-hot format\n",
    "label_encoder = LabelEncoder()\n",
    "integer_encoded = label_encoder.fit_transform(data_df['labels'])  # Convert labels to integers\n",
    "y = to_categorical(integer_encoded)  # One-hot encode the labels"
   ]
  },
  {
   "cell_type": "code",
   "execution_count": 28,
   "id": "4c8e88ff-9ea4-416f-9a46-a2abb75c4f7f",
   "metadata": {},
   "outputs": [
    {
     "data": {
      "text/plain": [
       "array([0, 0, 0, ..., 7, 7, 7])"
      ]
     },
     "execution_count": 28,
     "metadata": {},
     "output_type": "execute_result"
    }
   ],
   "source": [
    "integer_encoded"
   ]
  },
  {
   "cell_type": "code",
   "execution_count": 29,
   "id": "794fcd13-7039-4227-bedd-39635cf03c20",
   "metadata": {},
   "outputs": [
    {
     "data": {
      "text/plain": [
       "array([[1., 0., 0., ..., 0., 0., 0.],\n",
       "       [1., 0., 0., ..., 0., 0., 0.],\n",
       "       [1., 0., 0., ..., 0., 0., 0.],\n",
       "       ...,\n",
       "       [0., 0., 0., ..., 0., 0., 1.],\n",
       "       [0., 0., 0., ..., 0., 0., 1.],\n",
       "       [0., 0., 0., ..., 0., 0., 1.]], dtype=float32)"
      ]
     },
     "execution_count": 29,
     "metadata": {},
     "output_type": "execute_result"
    }
   ],
   "source": [
    "y"
   ]
  },
  {
   "cell_type": "markdown",
   "id": "2827f1cf-c18c-473f-abf5-44c2d0898fbd",
   "metadata": {},
   "source": [
    "# Train and Test Split"
   ]
  },
  {
   "cell_type": "code",
   "execution_count": 46,
   "id": "c3bb8c9c-3e6e-4be0-ba72-06a8ec4a2c7f",
   "metadata": {},
   "outputs": [],
   "source": [
    "# Split the dataset into training, validation, and test sets\n",
    "X_train, X_test, y_train, y_test = train_test_split(X, y, test_size=0.15, random_state=42)"
   ]
  },
  {
   "cell_type": "markdown",
   "id": "eaf102ab-845b-485f-a33b-bb20cae9369c",
   "metadata": {},
   "source": [
    "# Model Building"
   ]
  },
  {
   "cell_type": "code",
   "execution_count": 47,
   "id": "20046310-843f-4e6a-8207-8429cc5bb08f",
   "metadata": {},
   "outputs": [
    {
     "name": "stdout",
     "output_type": "stream",
     "text": [
      "Model: \"sequential_5\"\n",
      "_________________________________________________________________\n",
      " Layer (type)                Output Shape              Param #   \n",
      "=================================================================\n",
      " conv2d_15 (Conv2D)          (None, 50, 1, 64)         640       \n",
      "                                                                 \n",
      " batch_normalization_15 (Ba  (None, 50, 1, 64)         256       \n",
      " tchNormalization)                                               \n",
      "                                                                 \n",
      " activation_15 (Activation)  (None, 50, 1, 64)         0         \n",
      "                                                                 \n",
      " conv2d_16 (Conv2D)          (None, 50, 1, 128)        73856     \n",
      "                                                                 \n",
      " batch_normalization_16 (Ba  (None, 50, 1, 128)        512       \n",
      " tchNormalization)                                               \n",
      "                                                                 \n",
      " activation_16 (Activation)  (None, 50, 1, 128)        0         \n",
      "                                                                 \n",
      " max_pooling2d_10 (MaxPooli  (None, 25, 1, 128)        0         \n",
      " ng2D)                                                           \n",
      "                                                                 \n",
      " conv2d_17 (Conv2D)          (None, 25, 1, 128)        147584    \n",
      "                                                                 \n",
      " batch_normalization_17 (Ba  (None, 25, 1, 128)        512       \n",
      " tchNormalization)                                               \n",
      "                                                                 \n",
      " activation_17 (Activation)  (None, 25, 1, 128)        0         \n",
      "                                                                 \n",
      " max_pooling2d_11 (MaxPooli  (None, 12, 1, 128)        0         \n",
      " ng2D)                                                           \n",
      "                                                                 \n",
      " flatten_4 (Flatten)         (None, 1536)              0         \n",
      "                                                                 \n",
      " dense_8 (Dense)             (None, 256)               393472    \n",
      "                                                                 \n",
      " reshape_4 (Reshape)         (None, 1, 256)            0         \n",
      "                                                                 \n",
      " bidirectional_4 (Bidirecti  (None, 512)               1050624   \n",
      " onal)                                                           \n",
      "                                                                 \n",
      " dropout_4 (Dropout)         (None, 512)               0         \n",
      "                                                                 \n",
      " dense_9 (Dense)             (None, 8)                 4104      \n",
      "                                                                 \n",
      "=================================================================\n",
      "Total params: 1671560 (6.38 MB)\n",
      "Trainable params: 1670920 (6.37 MB)\n",
      "Non-trainable params: 640 (2.50 KB)\n",
      "_________________________________________________________________\n"
     ]
    }
   ],
   "source": [
    "from keras.models import Sequential\n",
    "from keras.layers import Conv2D, MaxPooling2D, Reshape, Bidirectional, LSTM, Dense, Dropout, BatchNormalization, Activation\n",
    "from keras.optimizers import Adam\n",
    "from keras.regularizers import l2\n",
    "from keras.layers import Conv2D, MaxPooling2D, Flatten, Reshape, Bidirectional, LSTM, Dense, Dropout, BatchNormalization, Activation\n",
    "\n",
    "\n",
    "model = Sequential()\n",
    "\n",
    "# First Convolutional Layer Block\n",
    "model.add(Conv2D(\n",
    "    filters=64,  # filters_1 value\n",
    "    kernel_size=(3, 3),\n",
    "    padding='same',\n",
    "    kernel_regularizer=l2(0.001),  # l2_reg value\n",
    "    input_shape=(50, 1, 1)\n",
    "))\n",
    "model.add(BatchNormalization())\n",
    "model.add(Activation('relu'))\n",
    "\n",
    "# Second Convolutional Layer Block\n",
    "model.add(Conv2D(\n",
    "    filters=128,  # filters_2 value\n",
    "    kernel_size=(3, 3),\n",
    "    padding='same',\n",
    "    kernel_regularizer=l2(0.001)  # l2_reg value\n",
    "))\n",
    "model.add(BatchNormalization())\n",
    "model.add(Activation('relu'))\n",
    "model.add(MaxPooling2D(pool_size=(2, 1)))\n",
    "\n",
    "# Third Convolutional Layer Block\n",
    "model.add(Conv2D(\n",
    "    filters=128,  # filters_3 value\n",
    "    kernel_size=(3, 3),\n",
    "    padding='same',\n",
    "    kernel_regularizer=l2(0.001)  # l2_reg value\n",
    "))\n",
    "model.add(BatchNormalization())\n",
    "model.add(Activation('relu'))\n",
    "model.add(MaxPooling2D(pool_size=(2, 1)))\n",
    "\n",
    "# Flatten the output from the previous layers\n",
    "model.add(Flatten())\n",
    "\n",
    "# Add a Fully Connected (Dense) layer after Flatten\n",
    "model.add(Dense(\n",
    "    units=256,  # The number of units can be adjusted (e.g., 512)\n",
    "    activation='relu',  # You can also use 'relu' or another activation function\n",
    "    kernel_regularizer=l2(0.001)  # l2 regularization\n",
    "))\n",
    "\n",
    "# Reshape for LSTM Layer\n",
    "model.add(Reshape((-1, 256)))  # Reshaping to (batch_size, 8, 100)\n",
    "\n",
    "# BiLSTM Layer\n",
    "model.add(Bidirectional(LSTM(\n",
    "    units=256,  # lstm_units value\n",
    "    return_sequences=False,\n",
    "    kernel_regularizer=l2(0.001)  # l2_reg value\n",
    ")))\n",
    "\n",
    "# Dropout Layer\n",
    "model.add(Dropout(rate=0.4))  # dropout_rate value\n",
    "\n",
    "# Fully Connected Output Layer\n",
    "model.add(Dense(\n",
    "    8,  # Number of output classes\n",
    "    activation='softmax',  # Output layer activation for multi-class classification\n",
    "    kernel_regularizer=l2(0.001)  # l2_reg value\n",
    "))\n",
    "\n",
    "# Compile the Model\n",
    "model.compile(\n",
    "    optimizer=Adam(learning_rate=0.0001),  # learning_rate value\n",
    "    loss='categorical_crossentropy',\n",
    "    metrics=['accuracy']\n",
    ")\n",
    "\n",
    "# This is Model code\n",
    "model.summary()"
   ]
  },
  {
   "cell_type": "markdown",
   "id": "65dfb33f-d82b-4b86-94c8-eecae4e7384d",
   "metadata": {},
   "source": [
    "# For hyperparameters tunning BayesianOptimization "
   ]
  },
  {
   "cell_type": "markdown",
   "id": "044fd0b7-39c8-4444-ba13-e5240f4adaf9",
   "metadata": {},
   "source": [
    "# Model Running"
   ]
  },
  {
   "cell_type": "code",
   "execution_count": 48,
   "id": "014bff28-f37e-40fe-8332-0a130c7040f2",
   "metadata": {},
   "outputs": [
    {
     "name": "stdout",
     "output_type": "stream",
     "text": [
      "Epoch 1/25\n",
      "196/196 [==============================] - 16s 44ms/step - loss: 2.3885 - accuracy: 0.6017 - val_loss: 2.6515 - val_accuracy: 0.4626\n",
      "Epoch 2/25\n",
      "196/196 [==============================] - 7s 37ms/step - loss: 1.5819 - accuracy: 0.7633 - val_loss: 1.6111 - val_accuracy: 0.7562\n",
      "Epoch 3/25\n",
      "196/196 [==============================] - 7s 37ms/step - loss: 1.3409 - accuracy: 0.7982 - val_loss: 1.3138 - val_accuracy: 0.7839\n",
      "Epoch 4/25\n",
      "196/196 [==============================] - 7s 38ms/step - loss: 1.1995 - accuracy: 0.8209 - val_loss: 1.1221 - val_accuracy: 0.8227\n",
      "Epoch 5/25\n",
      "196/196 [==============================] - 7s 37ms/step - loss: 1.0978 - accuracy: 0.8434 - val_loss: 1.0512 - val_accuracy: 0.8532\n",
      "Epoch 6/25\n",
      "196/196 [==============================] - 7s 38ms/step - loss: 0.9986 - accuracy: 0.8680 - val_loss: 0.9858 - val_accuracy: 0.8643\n",
      "Epoch 7/25\n",
      "196/196 [==============================] - 8s 39ms/step - loss: 0.9284 - accuracy: 0.8835 - val_loss: 0.8877 - val_accuracy: 0.8809\n",
      "Epoch 8/25\n",
      "196/196 [==============================] - 8s 39ms/step - loss: 0.8547 - accuracy: 0.8981 - val_loss: 0.8212 - val_accuracy: 0.9169\n",
      "Epoch 9/25\n",
      "196/196 [==============================] - 7s 38ms/step - loss: 0.7906 - accuracy: 0.9144 - val_loss: 0.8037 - val_accuracy: 0.8975\n",
      "Epoch 10/25\n",
      "196/196 [==============================] - 8s 38ms/step - loss: 0.7342 - accuracy: 0.9281 - val_loss: 0.7610 - val_accuracy: 0.9114\n",
      "Epoch 11/25\n",
      "196/196 [==============================] - 7s 38ms/step - loss: 0.6942 - accuracy: 0.9363 - val_loss: 0.7250 - val_accuracy: 0.9086\n",
      "Epoch 12/25\n",
      "196/196 [==============================] - 7s 38ms/step - loss: 0.6433 - accuracy: 0.9499 - val_loss: 0.6886 - val_accuracy: 0.9224\n",
      "Epoch 13/25\n",
      "196/196 [==============================] - 7s 38ms/step - loss: 0.6097 - accuracy: 0.9557 - val_loss: 0.6559 - val_accuracy: 0.9224\n",
      "Epoch 14/25\n",
      "196/196 [==============================] - 7s 38ms/step - loss: 0.5745 - accuracy: 0.9654 - val_loss: 0.6240 - val_accuracy: 0.9529\n",
      "Epoch 15/25\n",
      "196/196 [==============================] - 8s 38ms/step - loss: 0.5398 - accuracy: 0.9701 - val_loss: 0.5821 - val_accuracy: 0.9612\n",
      "Epoch 16/25\n",
      "196/196 [==============================] - 7s 38ms/step - loss: 0.5229 - accuracy: 0.9705 - val_loss: 0.5884 - val_accuracy: 0.9474\n",
      "Epoch 17/25\n",
      "196/196 [==============================] - 7s 38ms/step - loss: 0.4876 - accuracy: 0.9826 - val_loss: 0.5433 - val_accuracy: 0.9584\n",
      "Epoch 18/25\n",
      "196/196 [==============================] - 7s 38ms/step - loss: 0.4737 - accuracy: 0.9839 - val_loss: 0.5070 - val_accuracy: 0.9695\n",
      "Epoch 19/25\n",
      "196/196 [==============================] - 8s 39ms/step - loss: 0.4500 - accuracy: 0.9873 - val_loss: 0.5367 - val_accuracy: 0.9501\n",
      "Epoch 20/25\n",
      "196/196 [==============================] - 8s 40ms/step - loss: 0.4356 - accuracy: 0.9882 - val_loss: 0.5141 - val_accuracy: 0.9584\n",
      "Epoch 21/25\n",
      "196/196 [==============================] - 7s 38ms/step - loss: 0.4306 - accuracy: 0.9860 - val_loss: 0.5128 - val_accuracy: 0.9584\n",
      "Epoch 22/25\n",
      "196/196 [==============================] - 8s 39ms/step - loss: 0.4071 - accuracy: 0.9927 - val_loss: 0.4649 - val_accuracy: 0.9751\n",
      "Epoch 23/25\n",
      "196/196 [==============================] - 8s 39ms/step - loss: 0.3895 - accuracy: 0.9950 - val_loss: 0.4670 - val_accuracy: 0.9640\n",
      "Epoch 24/25\n",
      "196/196 [==============================] - 8s 39ms/step - loss: 0.3804 - accuracy: 0.9952 - val_loss: 0.4485 - val_accuracy: 0.9695\n",
      "Epoch 25/25\n",
      "196/196 [==============================] - 8s 38ms/step - loss: 0.3619 - accuracy: 0.9977 - val_loss: 0.4297 - val_accuracy: 0.9778\n"
     ]
    }
   ],
   "source": [
    "# Train the model\n",
    "history = model.fit(X_train, y_train, batch_size=35, epochs=25, validation_split=0.05)"
   ]
  },
  {
   "cell_type": "code",
   "execution_count": 49,
   "id": "60ddb453-0b7c-4508-b68d-1eaf1a010eea",
   "metadata": {},
   "outputs": [
    {
     "data": {
      "image/png": "[encoded data removed]",
      "text/plain": [
       "<Figure size 1200x500 with 2 Axes>"
      ]
     },
     "metadata": {},
     "output_type": "display_data"
    }
   ],
   "source": [
    "# Plotting the training history\n",
    "#lstm-->128,batch->84\n",
    "import matplotlib.pyplot as plt\n",
    "plt.figure(figsize=(12, 5))\n",
    "\n",
    "# Plot training & validation accuracy values\n",
    "plt.subplot(1, 2, 1)\n",
    "plt.plot(history.history['accuracy'], label='Train Accuracy')\n",
    "plt.plot(history.history['val_accuracy'], label='Validation Accuracy')\n",
    "plt.title('Model Accuracy')\n",
    "plt.ylabel('Accuracy')\n",
    "plt.xlabel('Epoch')\n",
    "plt.legend(loc='upper left')\n",
    "\n",
    "# Plot training & validation loss values\n",
    "plt.subplot(1, 2, 2)\n",
    "plt.plot(history.history['loss'], label='Train Loss')\n",
    "plt.plot(history.history['val_loss'], label='Validation Loss')\n",
    "plt.title('Model Loss')\n",
    "plt.ylabel('Loss') \n",
    "plt.xlabel('Epoch')\n",
    "plt.legend(loc='upper left')\n",
    "\n",
    "plt.tight_layout()\n",
    "plt.show()"
   ]
  },
  {
   "cell_type": "markdown",
   "id": "a38d043a-e054-4324-a331-00c0877dccff",
   "metadata": {},
   "source": [
    "# Evaluate the model"
   ]
  },
  {
   "cell_type": "code",
   "execution_count": 50,
   "id": "508bce07-a0dc-4113-b8af-f2b50ea66882",
   "metadata": {},
   "outputs": [
    {
     "name": "stdout",
     "output_type": "stream",
     "text": [
      "40/40 [==============================] - 0s 9ms/step - loss: 0.4060 - accuracy: 0.9835\n",
      "Test Loss: 0.4060179591178894, Test Accuracy: 0.9834905862808228\n",
      "40/40 [==============================] - 2s 11ms/step\n"
     ]
    }
   ],
   "source": [
    "# Evaluate the model\n",
    "loss, accuracy = model.evaluate(X_test, y_test)\n",
    "print(f\"Test Loss: {loss}, Test Accuracy: {accuracy}\")\n",
    "\n",
    "# Predict labels for test data\n",
    "predictions = model.predict(X_test)"
   ]
  },
  {
   "cell_type": "markdown",
   "id": "bf7d0cfe-494d-49d1-a7a4-4c27598910d6",
   "metadata": {},
   "source": [
    "# Convert one-hot encoded labels back to original class labels"
   ]
  },
  {
   "cell_type": "code",
   "execution_count": 51,
   "id": "7ccfcc02-85a7-40eb-b2c1-bf5b5a406463",
   "metadata": {},
   "outputs": [],
   "source": [
    "# Convert one-hot encoded labels back to original class labels\n",
    "actual_labels = label_encoder.inverse_transform(np.argmax(y_test, axis=1))  # Actual labels\n",
    "predicted_labels = label_encoder.inverse_transform(np.argmax(predictions, axis=1))  # Predicted labels\n",
    "\n",
    "# Create a DataFrame to store actual and predicted values\n",
    "comparison_df = pd.DataFrame({\n",
    "    'Actual': actual_labels,\n",
    "    'Predicted': predicted_labels\n",
    "})"
   ]
  },
  {
   "cell_type": "code",
   "execution_count": 52,
   "id": "69e6bbf7-ce81-411b-87ec-8f5c68003d62",
   "metadata": {},
   "outputs": [
    {
     "name": "stdout",
     "output_type": "stream",
     "text": [
      "    Actual Predicted\n",
      "0     calm      calm\n",
      "1  neutral   neutral\n",
      "2      sad       sad\n",
      "3    angry     angry\n",
      "4  neutral   neutral\n"
     ]
    }
   ],
   "source": [
    "# Display the first few rows\n",
    "print(comparison_df.head())"
   ]
  },
  {
   "cell_type": "code",
   "execution_count": 54,
   "id": "ed96f95a-a89b-4a19-812c-99146c7388ac",
   "metadata": {},
   "outputs": [
    {
     "name": "stdout",
     "output_type": "stream",
     "text": [
      "Accuracy: 0.9835\n",
      "Classification Report:\n",
      "              precision    recall  f1-score   support\n",
      "\n",
      "       angry       1.00      0.98      0.99       189\n",
      "        calm       0.98      0.98      0.98        61\n",
      "     disgust       0.98      0.98      0.98       183\n",
      "     fearful       0.98      0.98      0.98       190\n",
      "       happy       0.99      0.97      0.98       181\n",
      "     neutral       1.00      0.99      0.99       152\n",
      "         sad       0.99      0.99      0.99       154\n",
      "   surprised       0.95      1.00      0.97       162\n",
      "\n",
      "    accuracy                           0.98      1272\n",
      "   macro avg       0.98      0.98      0.98      1272\n",
      "weighted avg       0.98      0.98      0.98      1272\n",
      "\n"
     ]
    }
   ],
   "source": [
    "from sklearn.metrics import classification_report, confusion_matrix, accuracy_score\n",
    "accuracy = accuracy_score(actual_labels, predicted_labels)\n",
    "print(f\"Accuracy: {accuracy:.4f}\")\n",
    "\n",
    "# Classification Report\n",
    "report = classification_report(actual_labels, predicted_labels, target_names=label_encoder.classes_)\n",
    "print(\"Classification Report:\")\n",
    "print(report)"
   ]
  },
  {
   "cell_type": "markdown",
   "id": "e31fc6f0-3d82-4db2-aa5e-a0f941ab17df",
   "metadata": {},
   "source": [
    "# Visulaization"
   ]
  },
  {
   "cell_type": "markdown",
   "id": "0b0e9978-748e-4c3e-b155-4e3238ad4597",
   "metadata": {},
   "source": [
    "# 1. Confusion Matrix as a Table"
   ]
  },
  {
   "cell_type": "code",
   "execution_count": 60,
   "id": "02ab6fe8-4039-42fe-be17-bb41f013237a",
   "metadata": {},
   "outputs": [
    {
     "name": "stdout",
     "output_type": "stream",
     "text": [
      "Confusion Matrix as Table:\n",
      "           angry  calm  disgust  fearful  happy  neutral  sad  surprised\n",
      "angry        185     0        2        1      1        0    0          0\n",
      "calm           0    60        0        0      0        0    1          0\n",
      "disgust        0     0      180        2      0        0    0          1\n",
      "fearful        0     0        2      187      1        0    0          0\n",
      "happy          0     0        0        0    175        0    0          6\n",
      "neutral        0     1        0        0      0      150    1          0\n",
      "sad            0     0        0        0      0        0  152          2\n",
      "surprised      0     0        0        0      0        0    0        162\n"
     ]
    }
   ],
   "source": [
    "import pandas as pd\n",
    "\n",
    "# Convert confusion matrix to a DataFrame\n",
    "conf_matrix_df = pd.DataFrame(\n",
    "    conf_matrix, \n",
    "    index=label_encoder.classes_, \n",
    "    columns=label_encoder.classes_\n",
    ")\n",
    "\n",
    "print(\"Confusion Matrix as Table:\")\n",
    "print(conf_matrix_df)\n"
   ]
  },
  {
   "cell_type": "markdown",
   "id": "11b87a70-7445-44f5-beb1-3dec1ad76424",
   "metadata": {},
   "source": [
    "# 2. Stacked Bar Plot"
   ]
  },
  {
   "cell_type": "code",
   "execution_count": 62,
   "id": "f8274505-e788-4e0e-ab14-ee4c80291930",
   "metadata": {},
   "outputs": [
    {
     "data": {
      "image/png": "[encoded data removed]",
      "text/plain": [
       "<Figure size 1200x800 with 1 Axes>"
      ]
     },
     "metadata": {},
     "output_type": "display_data"
    }
   ],
   "source": [
    "import matplotlib.pyplot as plt\n",
    "import numpy as np\n",
    "\n",
    "# Normalize confusion matrix by row (optional)\n",
    "conf_matrix_norm = conf_matrix.astype('float') / conf_matrix.sum(axis=1)[:, np.newaxis]\n",
    "\n",
    "# Plot as a stacked bar chart\n",
    "plt.figure(figsize=(12, 8))\n",
    "for i, row in enumerate(conf_matrix_norm):\n",
    "    plt.bar(label_encoder.classes_, row, bottom=np.sum(conf_matrix_norm[:i], axis=0), label=label_encoder.classes_[i])\n",
    "\n",
    "plt.xlabel('Predicted Labels')\n",
    "plt.ylabel('Proportion')\n",
    "plt.title('Stacked Bar Chart of Confusion Matrix')\n",
    "plt.legend(title='Actual Labels')\n",
    "plt.show()\n"
   ]
  },
  {
   "cell_type": "markdown",
   "id": "d9a789a5-4250-4465-b6a5-b1ee401ae587",
   "metadata": {},
   "source": [
    "# 3. Side-by-Side Bar Chart"
   ]
  },
  {
   "cell_type": "code",
   "execution_count": 63,
   "id": "c67930db-794e-40c2-9f8f-cfba374fc0a4",
   "metadata": {},
   "outputs": [
    {
     "data": {
      "image/png": "[encoded data removed]",
      "text/plain": [
       "<Figure size 1000x600 with 1 Axes>"
      ]
     },
     "metadata": {},
     "output_type": "display_data"
    }
   ],
   "source": [
    "import matplotlib.pyplot as plt\n",
    "\n",
    "# Sum confusion matrix by row for actual and by column for predicted\n",
    "actual_counts = conf_matrix.sum(axis=1)\n",
    "predicted_counts = conf_matrix.sum(axis=0)\n",
    "\n",
    "x = np.arange(len(label_encoder.classes_))\n",
    "\n",
    "plt.figure(figsize=(10, 6))\n",
    "plt.bar(x - 0.2, actual_counts, 0.4, label='Actual')\n",
    "plt.bar(x + 0.2, predicted_counts, 0.4, label='Predicted')\n",
    "\n",
    "plt.xticks(x, label_encoder.classes_)\n",
    "plt.xlabel('Classes')\n",
    "plt.ylabel('Counts')\n",
    "plt.title('Actual vs Predicted Counts')\n",
    "plt.legend()\n",
    "plt.show()\n"
   ]
  },
  {
   "cell_type": "markdown",
   "id": "edb8c3ba-175c-480d-87d0-5dc4de04ccd3",
   "metadata": {},
   "source": [
    "# 5. Classification Report Visualization"
   ]
  },
  {
   "cell_type": "code",
   "execution_count": 64,
   "id": "fab237ea-76d3-4329-aafd-58aa9a8cd3f8",
   "metadata": {},
   "outputs": [
    {
     "name": "stdout",
     "output_type": "stream",
     "text": [
      "Classification Report:\n",
      "              precision    recall  f1-score      support\n",
      "angry          1.000000  0.978836  0.989305   189.000000\n",
      "calm           0.983607  0.983607  0.983607    61.000000\n",
      "disgust        0.978261  0.983607  0.980926   183.000000\n",
      "fearful        0.984211  0.984211  0.984211   190.000000\n",
      "happy          0.988701  0.966851  0.977654   181.000000\n",
      "neutral        1.000000  0.986842  0.993377   152.000000\n",
      "sad            0.987013  0.987013  0.987013   154.000000\n",
      "surprised      0.947368  1.000000  0.972973   162.000000\n",
      "accuracy       0.983491  0.983491  0.983491     0.983491\n",
      "macro avg      0.983645  0.983871  0.983633  1272.000000\n",
      "weighted avg   0.983845  0.983491  0.983537  1272.000000\n"
     ]
    }
   ],
   "source": [
    "from sklearn.metrics import classification_report\n",
    "import pandas as pd\n",
    "\n",
    "# Generate classification report\n",
    "report = classification_report(actual_labels, predicted_labels, target_names=label_encoder.classes_, output_dict=True)\n",
    "report_df = pd.DataFrame(report).transpose()\n",
    "\n",
    "print(\"Classification Report:\")\n",
    "print(report_df)\n"
   ]
  },
  {
   "cell_type": "code",
   "execution_count": null,
   "id": "57b50894-0d39-4c19-af19-8cbd84dde0d8",
   "metadata": {},
   "outputs": [],
   "source": []
  },
  {
   "cell_type": "code",
   "execution_count": null,
   "id": "cd1c2eee-fa1a-45b0-98b3-60fb409a9932",
   "metadata": {},
   "outputs": [],
   "source": []
  }
 ],
 "metadata": {
  "kernelspec": {
   "display_name": "Python 3 (ipykernel)",
   "language": "python",
   "name": "python3"
  },
  "language_info": {
   "codemirror_mode": {
    "name": "ipython",
    "version": 3
   },
   "file_extension": ".py",
   "mimetype": "text/x-python",
   "name": "python",
   "nbconvert_exporter": "python",
   "pygments_lexer": "ipython3",
   "version": "3.11.7"
  }
 },
 "nbformat": 4,
 "nbformat_minor": 5
}
