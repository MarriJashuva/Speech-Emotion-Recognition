{
 "cells": [
  {
   "cell_type": "markdown",
   "id": "55b1e4db-9d17-4c2d-814f-2f0d219db083",
   "metadata": {},
   "source": [
    "# Testing"
   ]
  },
  {
   "cell_type": "code",
   "execution_count": 34,
   "id": "1f7a0493-7e8b-47fa-b188-bb27b2568860",
   "metadata": {},
   "outputs": [
    {
     "name": "stdout",
     "output_type": "stream",
     "text": [
      "Extracted features shape: (1, 50)\n",
      "MFCC Features: [[-3.7631381e+02  1.5346053e+02 -2.8570433e+01  1.1185199e+01\n",
      "   1.6465889e+01 -9.2895536e+00 -4.3370099e+00 -1.5032400e+01\n",
      "  -7.0157037e+00 -3.7807393e-01 -1.4105205e+01 -1.1261726e+01\n",
      "  -2.6079235e+00 -1.4742055e+00  2.4877472e-02 -1.6989080e+00\n",
      "  -4.7626271e+00  2.4259351e-01 -3.9583376e-01 -8.6896067e+00\n",
      "  -4.7125883e+00 -3.6261199e+00 -7.3799024e+00 -3.7780600e+00\n",
      "  -6.9258909e+00 -6.6287932e+00 -3.4905338e+00 -6.4510279e+00\n",
      "  -1.8598742e+00 -3.1272645e+00 -6.4665651e+00 -1.6389072e+00\n",
      "  -5.4685907e+00 -4.5477791e+00  1.0558448e+00 -3.0978234e+00\n",
      "  -2.3927383e+00  7.9454446e-01  2.2073632e-01  1.4261425e+00\n",
      "   2.4088206e+00  2.8426085e+00  1.7640539e+00  7.8109199e-01\n",
      "   2.2855809e-01 -8.2321268e-01  1.0283357e+00  2.1000395e+00\n",
      "   2.3908815e+00  2.6237772e+00]]\n"
     ]
    }
   ],
   "source": [
    "import librosa\n",
    "import numpy as np\n",
    "\n",
    "# Path to your .wav file\n",
    "file_path = \"angry.wav\"  # Replace with the actual path if not in the current directory\n",
    "\n",
    "# Function to extract MFCC features\n",
    "def extract_features(file_path):\n",
    "    try:\n",
    "        # Load the audio file\n",
    "        audio, sr = librosa.load(file_path, sr=None)\n",
    "        # Extract MFCC features (mean across time axis)\n",
    "        mfcc = librosa.feature.mfcc(y=audio, sr=sr, n_mfcc=50).mean(axis=1)\n",
    "        return mfcc\n",
    "    except Exception as e:\n",
    "        print(f\"Error processing file {file_path}: {e}\")\n",
    "        return None\n",
    "\n",
    "# Extract features for the single file\n",
    "features = extract_features(file_path)\n",
    "\n",
    "# Convert to NumPy array and display the shape\n",
    "if features is not None:\n",
    "    X = np.array([features])  # Wrap in a list to ensure 2D array\n",
    "    print(f\"Extracted features shape: {X.shape}\")\n",
    "    print(\"MFCC Features:\", X)\n",
    "else:\n",
    "    print(\"Feature extraction failed.\")\n"
   ]
  },
  {
   "cell_type": "code",
   "execution_count": 35,
   "id": "250036ff-125b-4d16-83f2-df93580e60d7",
   "metadata": {},
   "outputs": [
    {
     "name": "stdout",
     "output_type": "stream",
     "text": [
      "Model loaded successfully.\n"
     ]
    }
   ],
   "source": [
    "# Load the saved model\n",
    "import joblib\n",
    "loaded_model = joblib.load(\"ser_model.pkl\")\n",
    "print(\"Model loaded successfully.\")"
   ]
  },
  {
   "cell_type": "code",
   "execution_count": 36,
   "id": "af6d918c-d099-404b-afca-72c481a67edf",
   "metadata": {},
   "outputs": [],
   "source": [
    "X = X.reshape(X.shape[0], 50, 1, 1)"
   ]
  },
  {
   "cell_type": "code",
   "execution_count": 37,
   "id": "90389bf9-e6fe-44ae-9a22-77b69e449a3d",
   "metadata": {},
   "outputs": [
    {
     "name": "stdout",
     "output_type": "stream",
     "text": [
      "WARNING:tensorflow:5 out of the last 8 calls to <function Model.make_predict_function.<locals>.predict_function at 0x0000022D2DA16FC0> triggered tf.function retracing. Tracing is expensive and the excessive number of tracings could be due to (1) creating @tf.function repeatedly in a loop, (2) passing tensors with different shapes, (3) passing Python objects instead of tensors. For (1), please define your @tf.function outside of the loop. For (2), @tf.function has reduce_retracing=True option that can avoid unnecessary retracing. For (3), please refer to https://www.tensorflow.org/guide/function#controlling_retracing and https://www.tensorflow.org/api_docs/python/tf/function for  more details.\n",
      "1/1 [==============================] - 1s 1s/step\n",
      "Prediction: [[1.5743213e-02 9.8338056e-01 5.4759130e-06 8.2827854e-04 3.8859100e-05\n",
      "  3.2866242e-06 3.0408668e-07]]\n"
     ]
    }
   ],
   "source": [
    "prediction = loaded_model.predict(X)\n",
    "print(f\"Prediction: {prediction}\")"
   ]
  },
  {
   "cell_type": "code",
   "execution_count": 38,
   "id": "0eff6ad6-7ec5-4aca-8df5-55d8f5b2e9c5",
   "metadata": {},
   "outputs": [
    {
     "name": "stdout",
     "output_type": "stream",
     "text": [
      "Predicted Emotion: disgust\n"
     ]
    }
   ],
   "source": [
    "emotion_labels=[\"angry\",\"disgust\",\"fearful\",\"happy\",\"neutral\",\"sad\",\"surprised\"]\n",
    "predicted_emotion = emotion_labels[np.argmax(prediction)]\n",
    "print(f\"Predicted Emotion: {predicted_emotion}\")"
   ]
  },
  {
   "cell_type": "code",
   "execution_count": null,
   "id": "282c0535-0b6e-4618-a87e-f35866a34cb7",
   "metadata": {},
   "outputs": [],
   "source": []
  }
 ],
 "metadata": {
  "kernelspec": {
   "display_name": "Python 3 (ipykernel)",
   "language": "python",
   "name": "python3"
  },
  "language_info": {
   "codemirror_mode": {
    "name": "ipython",
    "version": 3
   },
   "file_extension": ".py",
   "mimetype": "text/x-python",
   "name": "python",
   "nbconvert_exporter": "python",
   "pygments_lexer": "ipython3",
   "version": "3.11.7"
  }
 },
 "nbformat": 4,
 "nbformat_minor": 5
}
